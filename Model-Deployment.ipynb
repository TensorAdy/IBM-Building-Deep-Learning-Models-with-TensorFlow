{
 "cells": [
  {
   "cell_type": "markdown",
   "metadata": {},
   "source": [
    "<a href=\"https://www.bigdatauniversity.com\"><img src=\"https://ibm.box.com/shared/static/qo20b88v1hbjztubt06609ovs85q8fau.png\" width=\"400px\"  align=\"center\"></a>\n",
    "<h1 align=\"center\"><font size=\"5\">Model-Deployment</font></h1>"
   ]
  },
  {
   "cell_type": "markdown",
   "metadata": {},
   "source": [
    "<h2>Introduction</h2>\n",
    "\n",
    "After training and saving our model we are going to deploy our saved model in a <b>Flask</b> app. <b>Flask</b> is a web framework in which we will be hosting our machine learning model. We are going to push our <b>Flask</b> app to IBM Cloud and access our flask app anywhere using a custon link to our machine learning model."
   ]
  },
  {
   "cell_type": "markdown",
   "metadata": {},
   "source": [
    "<div class=\"alert alert-block alert-info\" style=\"margin-top: 20px\">\n",
    "<font size = 3><strong>Click on the links to go to the following sections:</strong></font>\n",
    "<br>\n",
    "<h2>Table of Contents</h2>\n",
    "<ol>\n",
    "    <li><a href=\"#ref1\">Downloading Flask App</a></li>\n",
    "    <li><a href=\"#ref2\">Accessing Your Saved Model</a></li>\n",
    "    <li><a href=\"#ref3\">Configuring Your Flask App</a></li>\n",
    "    <li><a href=\"#ref4\">Pushing Your App to the Cloud</a></li>\n",
    "</ol>    \n",
    "</div>"
   ]
  },
  {
   "cell_type": "markdown",
   "metadata": {},
   "source": [
    "<a id=\"ref1\"></a>\n",
    "<h2>Downloading Flask App</h2>\n",
    "<p>Once you trained and saved your model, you want to deploy it on the web and provide a graphic user interface for people to interact with it. <b>Flask</b> is a lightweight web framework that allows us to host and deploy our machine learning model.</p>\n",
    "\n",
    "<p>The code below downloads and unzip the Flask app.</p>"
   ]
  },
  {
   "cell_type": "code",
   "execution_count": null,
   "metadata": {},
   "outputs": [],
   "source": [
    "!pip install wget"
   ]
  },
  {
   "cell_type": "code",
   "execution_count": null,
   "metadata": {},
   "outputs": [],
   "source": [
    "import wget, zipfile\n",
    "\n",
    "#source_zipfile='Python-Flask-MNIST-sample-app.zip'\n",
    "filename='Python-Flask-MNIST-sample-app'\n",
    "\n",
    "if not os.path.isfile(filename):\n",
    "    filename = wget.download('https://s3-api.us-geo.objectstorage.softlayer.net/cf-courses-data/CognitiveClass/ML0120ENv3/Flask-App/Python-Flask-MNIST-sample-app.zip')\n",
    "    with zipfile.ZipFile(\"Python-Flask-MNIST-sample-app.zip\",\"r\") as zip_ref:\n",
    "        zip_ref.extractall()"
   ]
  },
  {
   "cell_type": "markdown",
   "metadata": {},
   "source": [
    "<a id=\"ref2\"></a>\n",
    "<h2>Accessing Your Saved Model</h2>\n",
    "\n",
    "<p>In order for your app to access your machine learning model we need the <code>model_deployment_endpoint_url</code> of your model.</p>\n",
    "\n",
    "<p>First we install Watson Machine Learning package by running the code below."
   ]
  },
  {
   "cell_type": "code",
   "execution_count": null,
   "metadata": {},
   "outputs": [],
   "source": [
    "!bx plugin install machine-learning"
   ]
  },
  {
   "cell_type": "markdown",
   "metadata": {},
   "source": [
    "<p>Then we need to list out which instance of our saved machine learning model we want to deploy.</p>\n",
    "\n",
    "<p>To do that we need to set the environment variables for Watson Machine Learning</p>\n",
    "\n",
    "<p>To access Watson Machine Learning</p>\n",
    "<ol>\n",
    "    <li>Log into <a href=\"https://console.bluemix.net\" target=\"_blank\">IBM Cloud</a>.(Takes you to your IBM Cloud dashboard.</li>\n",
    "     <li>In your IBM Cloud dashboard, click the Watson Machine Learning service instance for which you want to retrieve credentials. (This opens the service details page for the Watson Machine Learning service instance.)\n",
    "         Click Service credentials.</li>\n",
    "    <li>If there are no service credentials yet, click the New credential button.</li>\n",
    "    <li>Under the ACTION menu, click \"View credentials\".</li>\n",
    "</ol>\n",
    "\n",
    "Then Set\n",
    "<ul>\n",
    "    <li>ML_ENV=value of url</li>\n",
    "    <li>ML_USERNAME=value of username</li>\n",
    "    <li>ML_PASSWORD=value of password</li>\n",
    "    <li>ML_INSTANCE=value of instance_id</li>\n",
    "</ul>\n",
    "\n",
    "Run the code below to list your saved machine learning model instances."
   ]
  },
  {
   "cell_type": "code",
   "execution_count": null,
   "metadata": {},
   "outputs": [],
   "source": [
    "!bx plugin show machine-learning"
   ]
  },
  {
   "cell_type": "code",
   "execution_count": null,
   "metadata": {},
   "outputs": [],
   "source": [
    "%%bash\n",
    "export ML_ENV=\n",
    "export ML_USERNAME=\n",
    "export ML_PASSWORD=\n",
    "export ML_INSTANCE=\n",
    "bx ml list instances"
   ]
  },
  {
   "cell_type": "markdown",
   "metadata": {},
   "source": [
    "<p>In the last line in the code cell below, <br>\n",
    "    <code>bx ml show deployments model_id deployment_id</code><br>\n",
    "    replace model_id with \"Model Id\", and replace deployment_id with \"Deployment Id\" from the model in the output above.\n",
    "</p> \n",
    "\n",
    "<p>\n",
    "    To get the <code>model_deployment_endpoint_url</code> of your model run the code below with the same environment variables as the previous code cell.\n",
    "</p>"
   ]
  },
  {
   "cell_type": "markdown",
   "metadata": {},
   "source": [
    "Get your GUID and replace GUID below."
   ]
  },
  {
   "cell_type": "code",
   "execution_count": null,
   "metadata": {},
   "outputs": [],
   "source": [
    "%%bash\n",
    "bx ml set instance GUID\n",
    "bx ml list deployments"
   ]
  },
  {
   "cell_type": "code",
   "execution_count": null,
   "metadata": {},
   "outputs": [],
   "source": [
    "%%bash\n",
    "bx ml show deployments model_id deployment_id"
   ]
  },
  {
   "cell_type": "markdown",
   "metadata": {},
   "source": [
    "<code>Scoring endpoint</code> will be your <code>model_deployment_endpoint_url</code>."
   ]
  },
  {
   "cell_type": "markdown",
   "metadata": {},
   "source": [
    "<a id=\"ref3\"></a>\n",
    "<h2>Configuring Your Flask App</h2>\n",
    "<p>In order to deploy your access your saved model, we need to give your app the url of your saved model.</p>\n",
    "\n",
    "<p>In the folder of your Flask app there is a file called <b>server.py</b>. Fill in <code>model_deployment_endpoint_url</code> with the \"Scroing endpoint\" of your model.</p>\n",
    "<p>And also fill in your wml_credentials</p>"
   ]
  },
  {
   "cell_type": "markdown",
   "metadata": {},
   "source": [
    "<h3>Create a Cloud Foundry App</h3>\n",
    "<p>Create a Python Cloud Foundry app here: <a href=\"https://cocl.us/Cloud-Foundry-Python-ML0120EN-Edx\" target=\"_blank\">Create a Python Cloud Foundry app</a></p>\n",
    "<ol>\n",
    "        <li>Give the app a unique name (for the rest of this example, the sample name will be: \"your-name-machine-learning-app\")</li>\n",
    "        <li>Accept the defaults in the other fields of the form</li>\n",
    "        <li>Choose the 128 MB plan</li>\n",
    "        <li>Click <strong>Create</strong></li>\n",
    "</ol>\n",
    "\n",
    "<p>The <b>Visit App URL</b> contains the link to the app</p>\n",
    "\n",
    "<p>In the folder of your Flask app there is a file called <b>manifest.yml</b>. Replace <b>app-name</b> with the name of your app. And make sure the <b>memory</b> is set to \"128mb\".</p>\n",
    "    \n",
    "<p>In another file named <code>setup.py</code> replace <b>app-name</b> with the name of your app.</p>\n",
    "\n"
   ]
  },
  {
   "cell_type": "raw",
   "metadata": {},
   "source": [
    "wml_credentials = {\n",
    "  \"instance_id\": \"\",\n",
    "  \"password\": \"\",\n",
    "  \"url\": \"\",\n",
    "  \"username\": \"\"\n",
    "}"
   ]
  },
  {
   "cell_type": "markdown",
   "metadata": {},
   "source": [
    "<a id=\"ref4\"></a>\n",
    "<h2>Pushing Your App to the Cloud</h2>\n",
    "In the code cell below, replace <code>email</code> with you email that you use for your IBM Cloud Log in, and password with your IBM Cloud Log in password. <br>\n",
    "Replace region with a number from 1 to 6.\n",
    "\n",
    "1. au-syd\n",
    "2. jp-tok\n",
    "3. eu-de\n",
    "4. eu-gb\n",
    "5. us-south\n",
    "6. us-east\n",
    "\n",
    "Then run the code below to push your app onto IBM cloud."
   ]
  },
  {
   "cell_type": "code",
   "execution_count": null,
   "metadata": {},
   "outputs": [],
   "source": [
    "%%bash\n",
    "cd Python-Flask-MNIST-sample-app/app\n",
    "ibmcloud login\n",
    "email\n",
    "password\n",
    "'region'\n",
    "region\n",
    "N\n",
    "ibmcloud target --cf\n",
    "ibmcloud app push"
   ]
  },
  {
   "cell_type": "markdown",
   "metadata": {},
   "source": [
    "<p>The <b>Visit App URL</b> link in cloud foundry contains the url to your Machine Learning App</p>\n",
    "If you forget the url takes the form of \"https://[app-name].mybluemix.net\"."
   ]
  },
  {
   "cell_type": "markdown",
   "metadata": {},
   "source": [
    "### Thanks for completing this lesson!\n",
    "Created by <a href=\"https://linkedin.com/in/saeedaghabozorgi\"> Saeed Aghabozorgi </a>, <a href=\"https://www.linkedin.com/in/yi-leng-yao-84451275/\">Yi Yao</a></h4>"
   ]
  },
  {
   "cell_type": "markdown",
   "metadata": {},
   "source": [
    "<hr>\n",
    "\n",
    "Copyright &copy; 2018 [Cognitive Class](https://cocl.us/DX0108EN_CC). This notebook and its source code are released under the terms of the [MIT License](https://bigdatauniversity.com/mit-license/)."
   ]
  }
 ],
 "metadata": {
  "kernelspec": {
   "display_name": "Python 3",
   "language": "python",
   "name": "python3"
  },
  "language_info": {
   "codemirror_mode": {
    "name": "ipython",
    "version": 3
   },
   "file_extension": ".py",
   "mimetype": "text/x-python",
   "name": "python",
   "nbconvert_exporter": "python",
   "pygments_lexer": "ipython3",
   "version": "3.7.3"
  }
 },
 "nbformat": 4,
 "nbformat_minor": 2
}
